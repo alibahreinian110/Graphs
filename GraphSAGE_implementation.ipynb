{
  "nbformat": 4,
  "nbformat_minor": 0,
  "metadata": {
    "colab": {
      "provenance": []
    },
    "kernelspec": {
      "name": "python3",
      "display_name": "Python 3"
    },
    "language_info": {
      "name": "python"
    }
  },
  "cells": [
    {
      "cell_type": "code",
      "execution_count": null,
      "metadata": {
        "id": "3q8r_V2rC2At"
      },
      "outputs": [],
      "source": [
        "!pip install torch_geometric"
      ]
    },
    {
      "cell_type": "code",
      "source": [
        "import torch\n",
        "from torch_geometric.nn import SAGEConv"
      ],
      "metadata": {
        "id": "_V_Cn2uVDBgv"
      },
      "execution_count": 2,
      "outputs": []
    },
    {
      "cell_type": "code",
      "source": [
        "class GraphSAGE(torch.nn.Module):\n",
        "  def __init__(self, in_channels, hidden_channels, out_channels):\n",
        "    super(GraphSAGE, self).__init__()\n",
        "    self.conv1 = SAGEConv(in_channels, hidden_channels)\n",
        "    self.conv2 = SAGEConv(hidden_channels, out_channels)\n",
        "\n",
        "  def forward(self, x, edge_index):\n",
        "    x = self.conv1(x, edge_index)\n",
        "    x = torch.relu(x)\n",
        "    x = self.conv2(x, edge_index)\n",
        "    return x"
      ],
      "metadata": {
        "id": "5UB-z1UYDKMy"
      },
      "execution_count": 3,
      "outputs": []
    },
    {
      "cell_type": "code",
      "source": [
        "from torch_geometric.datasets import Planetoid\n",
        "dataset = Planetoid(root='/tmp/Cora', name = 'Cora')\n",
        "data = dataset[0]"
      ],
      "metadata": {
        "id": "7xr9Oe1tEoxR",
        "colab": {
          "base_uri": "https://localhost:8080/"
        },
        "outputId": "6e0a554a-9d2d-45b0-a819-0d48cf349ceb"
      },
      "execution_count": 4,
      "outputs": [
        {
          "output_type": "stream",
          "name": "stderr",
          "text": [
            "Downloading https://github.com/kimiyoung/planetoid/raw/master/data/ind.cora.x\n",
            "Downloading https://github.com/kimiyoung/planetoid/raw/master/data/ind.cora.tx\n",
            "Downloading https://github.com/kimiyoung/planetoid/raw/master/data/ind.cora.allx\n",
            "Downloading https://github.com/kimiyoung/planetoid/raw/master/data/ind.cora.y\n",
            "Downloading https://github.com/kimiyoung/planetoid/raw/master/data/ind.cora.ty\n",
            "Downloading https://github.com/kimiyoung/planetoid/raw/master/data/ind.cora.ally\n",
            "Downloading https://github.com/kimiyoung/planetoid/raw/master/data/ind.cora.graph\n",
            "Downloading https://github.com/kimiyoung/planetoid/raw/master/data/ind.cora.test.index\n",
            "Processing...\n",
            "Done!\n"
          ]
        }
      ]
    },
    {
      "cell_type": "code",
      "source": [
        "x = dataset.num_node_features\n",
        "y = dataset.num_classes\n",
        "\n",
        "model = GraphSAGE(x, 16, y)\n",
        "optimizer = torch.optim.Adam(model.parameters(), lr=0.01)"
      ],
      "metadata": {
        "id": "AI2Wwy4sFEpE"
      },
      "execution_count": 8,
      "outputs": []
    },
    {
      "cell_type": "code",
      "source": [
        "model"
      ],
      "metadata": {
        "colab": {
          "base_uri": "https://localhost:8080/"
        },
        "id": "bcHidgTIGUja",
        "outputId": "820d0916-b898-4a99-fb93-8724ba5a5ac9"
      },
      "execution_count": 9,
      "outputs": [
        {
          "output_type": "execute_result",
          "data": {
            "text/plain": [
              "GraphSAGE(\n",
              "  (conv1): SAGEConv(1433, 16, aggr=mean)\n",
              "  (conv2): SAGEConv(16, 7, aggr=mean)\n",
              ")"
            ]
          },
          "metadata": {},
          "execution_count": 9
        }
      ]
    },
    {
      "cell_type": "code",
      "source": [
        "model.train()\n",
        "for epoch in range(200):\n",
        "  optimizer.zero_grad()\n",
        "  out = model(data.x, data.edge_index)\n",
        "  loss = torch.nn.functional.cross_entropy(out[data.train_mask], data.y[data.train_mask])\n",
        "  loss.backward()\n",
        "  optimizer.step()"
      ],
      "metadata": {
        "id": "ariLTJ-DFycA"
      },
      "execution_count": 10,
      "outputs": []
    },
    {
      "cell_type": "code",
      "source": [
        "model.eval()\n",
        "_, pred = model(data.x, data.edge_index).max(dim = 1)\n",
        "correct = int(pred[data.test_mask].eq(data.y[data.test_mask]).sum().item())\n",
        "acc = correct / int(data.test_mask.sum())\n",
        "print(f'Accuracy: {acc:.4f}')"
      ],
      "metadata": {
        "colab": {
          "base_uri": "https://localhost:8080/"
        },
        "id": "ZYmZGlegcW-_",
        "outputId": "76b2fea6-f049-46f1-ffaa-ee3ae7fe2580"
      },
      "execution_count": 11,
      "outputs": [
        {
          "output_type": "stream",
          "name": "stdout",
          "text": [
            "Accuracy: 0.7670\n"
          ]
        }
      ]
    },
    {
      "cell_type": "markdown",
      "source": [
        "Using Mini-Batches"
      ],
      "metadata": {
        "id": "jI2yvtm04VkP"
      }
    },
    {
      "cell_type": "code",
      "source": [
        "from torch_geometric.loader import NeighborSampler, DataLoader\n",
        "\n",
        "loader = DataLoader(dataset, batch_size = 32, shuffle = True)\n"
      ],
      "metadata": {
        "id": "uhr8dJ22hZ77"
      },
      "execution_count": 12,
      "outputs": []
    },
    {
      "cell_type": "code",
      "source": [
        "size=[10,5]\n",
        "for epoch in range(501):\n",
        "  for batch in loader:\n",
        "    optimizer.zero_grad()\n",
        "\n",
        "    sampler = NeighborSampler(batch.edge_index, sizes=size, return_e_id=False)\n",
        "    sampled_data = sampler(batch)\n",
        "\n",
        "    out = model(batch.x, sampled_data)\n",
        "    loss = torch.nn.functional.cross_entropy(out, batch.y)\n",
        "    loss.backward()\n",
        "    optimizer.step()\n",
        "    if epoch % 100 == 0:\n",
        "      print(f'Epoch: {epoch:03d}, Loss: {loss:.4f}')"
      ],
      "metadata": {
        "id": "8jZBxDfT5PYd"
      },
      "execution_count": null,
      "outputs": []
    },
    {
      "cell_type": "code",
      "source": [],
      "metadata": {
        "id": "YMWLPhSOuzUH"
      },
      "execution_count": null,
      "outputs": []
    }
  ]
}