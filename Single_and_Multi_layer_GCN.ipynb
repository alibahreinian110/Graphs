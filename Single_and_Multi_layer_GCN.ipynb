{
  "nbformat": 4,
  "nbformat_minor": 0,
  "metadata": {
    "colab": {
      "provenance": []
    },
    "kernelspec": {
      "name": "python3",
      "display_name": "Python 3"
    },
    "language_info": {
      "name": "python"
    }
  },
  "cells": [
    {
      "cell_type": "code",
      "source": [
        "!pip install torch_geometric\n",
        "!pip install torch"
      ],
      "metadata": {
        "id": "4yJl-JcwIeKa"
      },
      "execution_count": 2,
      "outputs": []
    },
    {
      "cell_type": "code",
      "source": [
        "from torch_geometric.datasets import Planetoid\n",
        "from torch_geometric.transforms import NormalizeFeatures #Scale and center the data features\n",
        "\n",
        "dataset = Planetoid('data/Planetoid', name = 'Cora', transform = NormalizeFeatures())"
      ],
      "metadata": {
        "id": "5QYY-4VrJquk",
        "colab": {
          "base_uri": "https://localhost:8080/"
        },
        "outputId": "769f3d09-daee-47b2-977a-4c32ce78fe0e"
      },
      "execution_count": 3,
      "outputs": [
        {
          "output_type": "stream",
          "name": "stderr",
          "text": [
            "Downloading https://github.com/kimiyoung/planetoid/raw/master/data/ind.cora.x\n",
            "Downloading https://github.com/kimiyoung/planetoid/raw/master/data/ind.cora.tx\n",
            "Downloading https://github.com/kimiyoung/planetoid/raw/master/data/ind.cora.allx\n",
            "Downloading https://github.com/kimiyoung/planetoid/raw/master/data/ind.cora.y\n",
            "Downloading https://github.com/kimiyoung/planetoid/raw/master/data/ind.cora.ty\n",
            "Downloading https://github.com/kimiyoung/planetoid/raw/master/data/ind.cora.ally\n",
            "Downloading https://github.com/kimiyoung/planetoid/raw/master/data/ind.cora.graph\n",
            "Downloading https://github.com/kimiyoung/planetoid/raw/master/data/ind.cora.test.index\n",
            "Processing...\n",
            "Done!\n"
          ]
        }
      ]
    },
    {
      "cell_type": "code",
      "source": [
        "# Get some basic info about the dataset\n",
        "print(f'Number of graphs: {len(dataset)}')\n",
        "print(f'Number of features: {dataset.num_features}')\n",
        "print(f'Number of classes: {dataset.num_classes}')\n",
        "print(50*'=')\n",
        "\n",
        "# There is only one graph in the dataset, use it as new data object\n",
        "data = dataset[0]\n",
        "\n",
        "# Gather some statistics about the graph.\n",
        "print(data)\n",
        "print(f'Number of nodes: {data.num_nodes}')\n",
        "print(f'Number of edges: {int(data.num_edges/2)}')\n",
        "print(f'Number of training nodes: {data.train_mask.sum()}')\n",
        "print(f'Training node label rate: {int(data.train_mask.sum()) / data.num_nodes:.2f}')\n",
        "print(f'Is undirected: {data.is_undirected()}')"
      ],
      "metadata": {
        "colab": {
          "base_uri": "https://localhost:8080/"
        },
        "id": "B6Wu35AmLNb1",
        "outputId": "d8d58d9d-7d72-48a1-827b-c4d05ae20bd6"
      },
      "execution_count": 4,
      "outputs": [
        {
          "output_type": "stream",
          "name": "stdout",
          "text": [
            "Number of graphs: 1\n",
            "Number of features: 1433\n",
            "Number of classes: 7\n",
            "==================================================\n",
            "Data(x=[2708, 1433], edge_index=[2, 10556], y=[2708], train_mask=[2708], val_mask=[2708], test_mask=[2708])\n",
            "Number of nodes: 2708\n",
            "Number of edges: 5278\n",
            "Number of training nodes: 140\n",
            "Training node label rate: 0.05\n",
            "Is undirected: True\n"
          ]
        }
      ]
    },
    {
      "cell_type": "markdown",
      "source": [
        "#SingleLayer GCN"
      ],
      "metadata": {
        "id": "-xVyAC2ic1Ys"
      }
    },
    {
      "cell_type": "markdown",
      "source": [
        "Traditional GCN\n",
        "\n",
        "Z = f(X,A) = softmax(Ahat  ReLu(Ahat X W0) W1)"
      ],
      "metadata": {
        "id": "gCO44PrCxNu3"
      }
    },
    {
      "cell_type": "code",
      "source": [
        "import torch\n",
        "from torch.nn import Linear # Applies a linear transformation to the incoming data y = xA + b\n",
        "import torch.nn.functional as F\n",
        "from torch_geometric.nn import GCNConv\n",
        "\n",
        "class GCN(torch.nn.Module):\n",
        "  def __init__(self, in_channels, hidden_channels, out_channels):\n",
        "    super(GCN, self).__init__()\n",
        "    torch.manual_seed(42)\n",
        "\n",
        "    self.conv1 = GCNConv(in_channels, hidden_channels)\n",
        "    self.conv2 = GCNConv(hidden_channels, hidden_channels)\n",
        "    self.out = Linear(hidden_channels, out_channels)\n",
        "\n",
        "  def forward(self, x, edge_index):\n",
        "    x = self.conv1(x, edge_index)\n",
        "    x = torch.relu(x)\n",
        "    x = self.conv2(x, edge_index)\n",
        "    x = F.softmax(self.out(x), dim = 1)\n",
        "    return x"
      ],
      "metadata": {
        "id": "XmUPePnHxE3O"
      },
      "execution_count": 5,
      "outputs": []
    },
    {
      "cell_type": "markdown",
      "source": [
        "GCN with dropout function"
      ],
      "metadata": {
        "id": "ntwk3IJh1C6v"
      }
    },
    {
      "cell_type": "code",
      "source": [
        "import torch\n",
        "from torch.nn import Linear\n",
        "import torch.nn.functional as F\n",
        "from torch_geometric.nn import GCNConv\n",
        "\n",
        "class GCN(torch.nn.Module):\n",
        "  def __init__(self, in_channels, hidden_channels, out_channels):\n",
        "    super(GCN, self).__init__()\n",
        "    torch.manual_seed(42)\n",
        "\n",
        "    self.conv1 = GCNConv(in_channels, hidden_channels)\n",
        "    self.conv2 = GCNConv(hidden_channels, hidden_channels)\n",
        "    self.out = Linear(hidden_channels, out_channels)\n",
        "\n",
        "  def forward(self, x, edge_index):\n",
        "    x = self.conv1(x, edge_index)\n",
        "    x = torch.relu(x)\n",
        "    x = F.dropout(x, p = 0.5, training=self.training)\n",
        "\n",
        "    x = self.conv2(x, edge_index)\n",
        "    x = torch.relu(x)\n",
        "    x = F.dropout(x, p = 0.5, training = self.training)\n",
        "\n",
        "    x = F.softmax(self.out(x), dim = 1)\n",
        "    return x"
      ],
      "metadata": {
        "id": "zCSxhQIILWaj"
      },
      "execution_count": 6,
      "outputs": []
    },
    {
      "cell_type": "code",
      "source": [
        "x = dataset.num_node_features\n",
        "y = dataset.num_classes\n",
        "\n",
        "model = GCN(x, 16, y)\n",
        "print(model)"
      ],
      "metadata": {
        "colab": {
          "base_uri": "https://localhost:8080/"
        },
        "id": "rlu0od6Ub93F",
        "outputId": "636add78-325e-4ee4-92ef-ec888acbe382"
      },
      "execution_count": 7,
      "outputs": [
        {
          "output_type": "stream",
          "name": "stdout",
          "text": [
            "GCN(\n",
            "  (conv1): GCNConv(1433, 16)\n",
            "  (conv2): GCNConv(16, 16)\n",
            "  (out): Linear(in_features=16, out_features=7, bias=True)\n",
            ")\n"
          ]
        }
      ]
    },
    {
      "cell_type": "code",
      "source": [
        "device = ('cuda' if torch.cuda.is_available() else 'cpu')\n",
        "model.to(device)\n",
        "data.to(device)\n",
        "\n",
        "lr = 0.01\n",
        "optimizer = torch.optim.Adam(model.parameters(), lr = lr)\n",
        "\n",
        "criterion = torch.nn.CrossEntropyLoss()\n",
        "\n",
        "def train():\n",
        "  model.train()\n",
        "  optimizer.zero_grad()\n",
        "  out = model(data.x, data.edge_index)\n",
        "  loss = criterion(out[data.train_mask], data.y[data.train_mask])\n",
        "  loss.backward()\n",
        "  optimizer.step()\n",
        "  return loss\n",
        "\n",
        "def test():\n",
        "  model.eval()\n",
        "  out = model(data.x, data.edge_index)\n",
        "  pred = out.argmax(dim = 1)\n",
        "  test_correct = pred[data.test_mask] == data.y[data.test_mask]\n",
        "  test_acc = int(test_correct.sum()) / int(data.test_mask.sum())\n",
        "  return test_acc\n",
        "\n",
        "losses = []\n",
        "for epoch in range(0, 1001):\n",
        "  loss = train()\n",
        "  losses.append(loss)\n",
        "  if epoch % 100 == 0:\n",
        "    print(f'Epoch: {epoch:03d}, Loss: {loss:.4f}')\n"
      ],
      "metadata": {
        "colab": {
          "base_uri": "https://localhost:8080/"
        },
        "id": "r79ElSw4cUGB",
        "outputId": "14d39be2-a52e-4a6c-8891-ff23c9ca9b86"
      },
      "execution_count": 8,
      "outputs": [
        {
          "output_type": "stream",
          "name": "stdout",
          "text": [
            "Epoch: 000, Loss: 1.9461\n",
            "Epoch: 100, Loss: 1.4218\n",
            "Epoch: 200, Loss: 1.3214\n",
            "Epoch: 300, Loss: 1.2743\n",
            "Epoch: 400, Loss: 1.2951\n",
            "Epoch: 500, Loss: 1.2492\n",
            "Epoch: 600, Loss: 1.2465\n",
            "Epoch: 700, Loss: 1.2404\n",
            "Epoch: 800, Loss: 1.2136\n",
            "Epoch: 900, Loss: 1.2309\n",
            "Epoch: 1000, Loss: 1.2074\n"
          ]
        }
      ]
    },
    {
      "cell_type": "code",
      "source": [
        "test_acc = test()\n",
        "print(f'Test Accuracy: {test_acc:.4f}')"
      ],
      "metadata": {
        "colab": {
          "base_uri": "https://localhost:8080/"
        },
        "id": "cT_28JEUjBIb",
        "outputId": "8dad1211-d499-4c0e-c29c-2cc715ebd2c9"
      },
      "execution_count": 9,
      "outputs": [
        {
          "output_type": "stream",
          "name": "stdout",
          "text": [
            "Test Accuracy: 0.7240\n"
          ]
        }
      ]
    },
    {
      "cell_type": "markdown",
      "source": [
        "#MultiLayer GCN"
      ],
      "metadata": {
        "id": "a1JKytKvLHq3"
      }
    },
    {
      "cell_type": "code",
      "source": [
        "import torch\n",
        "from torch.nn import Linear, ModuleList\n",
        "import torch.nn.functional as F\n",
        "from torch_geometric.nn import GCNConv\n",
        "\n",
        "class GCN_improved(torch.nn.Module):\n",
        "  def __init__(self, in_channels, hidden_channels, out_channels, num_layers):\n",
        "    super(GCN_improved, self).__init__()\n",
        "\n",
        "\n",
        "    self.conv_layers = ModuleList(\n",
        "        [GCNConv(in_channels, hidden_channels)] +\n",
        "        [GCNConv(hidden_channels, hidden_channels) for i in range(num_layers - 2)]\n",
        "    )\n",
        "\n",
        "    self.out = Linear(hidden_channels, out_channels)\n",
        "\n",
        "  def forward(self, x, edge_index):\n",
        "    for conv in self.conv_layers:\n",
        "      x = conv(x, edge_index)\n",
        "      x = torch.relu(x)\n",
        "      x = F.dropout(x, p = 0.5, training = self.training)\n",
        "\n",
        "    x = F.softmax(self.out(x), dim = 1)\n",
        "    return x"
      ],
      "metadata": {
        "id": "q-s8tFWYjewQ"
      },
      "execution_count": 13,
      "outputs": []
    },
    {
      "cell_type": "code",
      "source": [
        "x = dataset.num_node_features\n",
        "y = dataset.num_classes\n",
        "\n",
        "model = GCN_improved(in_channels= x, hidden_channels= 16, out_channels=7 , num_layers=5)\n",
        "print(model)"
      ],
      "metadata": {
        "colab": {
          "base_uri": "https://localhost:8080/"
        },
        "id": "UImIwjpKWsLi",
        "outputId": "03bbb82f-57b0-40e4-df51-4fabdab1dfe1"
      },
      "execution_count": 14,
      "outputs": [
        {
          "output_type": "stream",
          "name": "stdout",
          "text": [
            "GCN_improved(\n",
            "  (conv_layers): ModuleList(\n",
            "    (0): GCNConv(1433, 16)\n",
            "    (1-3): 3 x GCNConv(16, 16)\n",
            "  )\n",
            "  (out): Linear(in_features=16, out_features=7, bias=True)\n",
            ")\n"
          ]
        }
      ]
    },
    {
      "cell_type": "code",
      "source": [
        "model = GCN_improved(in_channels=dataset.num_features, hidden_channels=16, out_channels=dataset.num_classes, num_layers=5)\n",
        "\n",
        "# Define loss function and optimizer\n",
        "criterion = torch.nn.CrossEntropyLoss()\n",
        "optimizer = torch.optim.Adam(model.parameters(), lr=0.01)\n",
        "\n",
        "# Train the model\n",
        "model.train()\n",
        "for epoch in range(1001):\n",
        "    optimizer.zero_grad()\n",
        "    out = model(data.x, data.edge_index)\n",
        "    loss = criterion(out[data.train_mask], data.y[data.train_mask])\n",
        "    loss.backward()\n",
        "    optimizer.step()\n",
        "    if epoch % 100 == 0:\n",
        "      print(f'Epoch: {epoch:03d}, Loss: {loss:.4f}')\n",
        "\n"
      ],
      "metadata": {
        "colab": {
          "base_uri": "https://localhost:8080/"
        },
        "id": "zwNRH6LgW-FE",
        "outputId": "f069e3bb-d72d-4a61-9407-0edfc3fbef58"
      },
      "execution_count": 15,
      "outputs": [
        {
          "output_type": "stream",
          "name": "stdout",
          "text": [
            "Epoch: 000, Loss: 1.9460\n",
            "Epoch: 100, Loss: 1.5775\n",
            "Epoch: 200, Loss: 1.3739\n",
            "Epoch: 300, Loss: 1.3270\n",
            "Epoch: 400, Loss: 1.2823\n",
            "Epoch: 500, Loss: 1.3030\n",
            "Epoch: 600, Loss: 1.2692\n",
            "Epoch: 700, Loss: 1.3021\n",
            "Epoch: 800, Loss: 1.2689\n",
            "Epoch: 900, Loss: 1.2515\n",
            "Epoch: 1000, Loss: 1.2743\n"
          ]
        }
      ]
    },
    {
      "cell_type": "code",
      "source": [
        "# Evaluate the model\n",
        "model.eval()\n",
        "with torch.no_grad():\n",
        "    pred = model(data.x, data.edge_index).argmax(dim=1)\n",
        "    test_correct = pred[data.test_mask] == data.y[data.test_mask]\n",
        "    test_acc = int(test_correct.sum()) / int(data.test_mask.sum())\n",
        "print(f'Test Accuracy: {test_acc:.4f}')"
      ],
      "metadata": {
        "colab": {
          "base_uri": "https://localhost:8080/"
        },
        "id": "4RQ8_AGBXrJN",
        "outputId": "a4aa339e-bc0a-49a5-a701-b55a535e41a5"
      },
      "execution_count": 16,
      "outputs": [
        {
          "output_type": "stream",
          "name": "stdout",
          "text": [
            "Test Accuracy: 0.6680\n"
          ]
        }
      ]
    },
    {
      "cell_type": "code",
      "source": [],
      "metadata": {
        "id": "gFGmJ9lh0RsQ"
      },
      "execution_count": null,
      "outputs": []
    }
  ]
}