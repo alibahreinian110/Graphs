{
  "nbformat": 4,
  "nbformat_minor": 0,
  "metadata": {
    "colab": {
      "provenance": [],
      "collapsed_sections": [
        "-xVyAC2ic1Ys",
        "a1JKytKvLHq3"
      ]
    },
    "kernelspec": {
      "name": "python3",
      "display_name": "Python 3"
    },
    "language_info": {
      "name": "python"
    }
  },
  "cells": [
    {
      "cell_type": "code",
      "source": [
        "#!python -c \"import torch; print(torch.version.cuda)\""
      ],
      "metadata": {
        "id": "pfvdc5aeIvX_"
      },
      "execution_count": 1,
      "outputs": []
    },
    {
      "cell_type": "code",
      "execution_count": 2,
      "metadata": {
        "id": "tZKlng1vITFr"
      },
      "outputs": [],
      "source": [
        "#!pip install -q torch-scatter -f https://pytorch-geometric.com/whl/torch-1.6.0.html\n",
        "#!pip install -q torch-sparse -f https://pytorch-geometric.com/whl/torch-1.6.0.html\n",
        "#!pip install -q git+https://github.com/rusty1s/pytorch_geometric.git"
      ]
    },
    {
      "cell_type": "code",
      "source": [
        "!pip install torch_geometric\n",
        "!pip install torch"
      ],
      "metadata": {
        "id": "4yJl-JcwIeKa"
      },
      "execution_count": null,
      "outputs": []
    },
    {
      "cell_type": "code",
      "source": [
        "from torch_geometric.datasets import Planetoid\n",
        "from torch_geometric.transforms import NormalizeFeatures\n",
        "\n",
        "dataset = Planetoid('data/Planetoid', name = 'Cora', transform = NormalizeFeatures())"
      ],
      "metadata": {
        "id": "5QYY-4VrJquk"
      },
      "execution_count": null,
      "outputs": []
    },
    {
      "cell_type": "code",
      "source": [
        "# Get some basic info about the dataset\n",
        "print(f'Number of graphs: {len(dataset)}')\n",
        "print(f'Number of features: {dataset.num_features}')\n",
        "print(f'Number of classes: {dataset.num_classes}')\n",
        "print(50*'=')\n",
        "\n",
        "# There is only one graph in the dataset, use it as new data object\n",
        "data = dataset[0]\n",
        "\n",
        "# Gather some statistics about the graph.\n",
        "print(data)\n",
        "print(f'Number of nodes: {data.num_nodes}')\n",
        "print(f'Number of edges: {data.num_edges}')\n",
        "print(f'Number of training nodes: {data.train_mask.sum()}')\n",
        "print(f'Training node label rate: {int(data.train_mask.sum()) / data.num_nodes:.2f}')\n",
        "print(f'Is undirected: {data.is_undirected()}')"
      ],
      "metadata": {
        "colab": {
          "base_uri": "https://localhost:8080/"
        },
        "id": "B6Wu35AmLNb1",
        "outputId": "e56ff035-526c-4563-b049-146edb66dd27"
      },
      "execution_count": 5,
      "outputs": [
        {
          "output_type": "stream",
          "name": "stdout",
          "text": [
            "Number of graphs: 1\n",
            "Number of features: 1433\n",
            "Number of classes: 7\n",
            "==================================================\n",
            "Data(x=[2708, 1433], edge_index=[2, 10556], y=[2708], train_mask=[2708], val_mask=[2708], test_mask=[2708])\n",
            "Number of nodes: 2708\n",
            "Number of edges: 10556\n",
            "Number of training nodes: 140\n",
            "Training node label rate: 0.05\n",
            "Is undirected: True\n"
          ]
        }
      ]
    },
    {
      "cell_type": "markdown",
      "source": [
        "#SingleLayer GCN"
      ],
      "metadata": {
        "id": "-xVyAC2ic1Ys"
      }
    },
    {
      "cell_type": "code",
      "source": [
        "import torch\n",
        "from torch.nn import Linear\n",
        "import torch.nn.functional as F\n",
        "from torch_geometric.nn import GCNConv\n",
        "\n",
        "class GCN(torch.nn.Module):\n",
        "  def __init__(self, in_channels, hidden_channels, out_channels):\n",
        "    super(GCN, self).__init__()\n",
        "    torch.manual_seed(42)\n",
        "\n",
        "    self.conv1 = GCNConv(in_channels, hidden_channels)\n",
        "    self.conv2 = GCNConv(hidden_channels, hidden_channels)\n",
        "    self.out = Linear(hidden_channels, out_channels) #Probability of the output\n",
        "\n",
        "  def forward(self, x, edge_index):\n",
        "    x = self.conv1(x, edge_index)\n",
        "    x = torch.relu(x)\n",
        "    x = F.dropout(x, p = 0.5, training=self.training)\n",
        "\n",
        "    x = self.conv2(x, edge_index)\n",
        "    x = torch.relu(x)\n",
        "    x = F.dropout(x, p = 0.5, training = self.training)\n",
        "\n",
        "    x = F.softmax(self.out(x), dim = 1)\n",
        "    return x"
      ],
      "metadata": {
        "id": "zCSxhQIILWaj"
      },
      "execution_count": 6,
      "outputs": []
    },
    {
      "cell_type": "code",
      "source": [
        "x = dataset.num_node_features\n",
        "y = dataset.num_classes\n",
        "\n",
        "model = GCN(x, 16, y)\n",
        "print(model)"
      ],
      "metadata": {
        "colab": {
          "base_uri": "https://localhost:8080/"
        },
        "id": "rlu0od6Ub93F",
        "outputId": "3c2124b3-f88f-4566-b5c1-dfc36763e7bf"
      },
      "execution_count": 7,
      "outputs": [
        {
          "output_type": "stream",
          "name": "stdout",
          "text": [
            "GCN(\n",
            "  (conv1): GCNConv(1433, 16)\n",
            "  (conv2): GCNConv(16, 16)\n",
            "  (out): Linear(in_features=16, out_features=7, bias=True)\n",
            ")\n"
          ]
        }
      ]
    },
    {
      "cell_type": "code",
      "source": [
        "device = ('cuda' if torch.cuda.is_available() else 'cpu')\n",
        "model.to(device)\n",
        "data.to(device)\n",
        "\n",
        "lr = 0.01\n",
        "decay = 5e-4\n",
        "optimizer = torch.optim.Adam(model.parameters(), lr = lr, weight_decay = decay)\n",
        "\n",
        "criterion = torch.nn.CrossEntropyLoss()\n",
        "\n",
        "def train():\n",
        "  model.train()\n",
        "  optimizer.zero_grad()\n",
        "  out = model(data.x, data.edge_index)\n",
        "  loss = criterion(out[data.train_mask], data.y[data.train_mask])\n",
        "  loss.backward()\n",
        "  optimizer.step()\n",
        "  return loss\n",
        "\n",
        "def test():\n",
        "  model.eval()\n",
        "  out = model(data.x, data.edge_index)\n",
        "  pred = out.argmax(dim = 1)\n",
        "  test_correct = pred[data.test_mask] == data.y[data.test_mask]\n",
        "  test_acc = int(test_correct.sum()) / int(data.test_mask.sum())\n",
        "  return test_acc\n",
        "\n",
        "losses = []\n",
        "for epoch in range(0, 1001):\n",
        "  loss = train()\n",
        "  losses.append(loss)\n",
        "  if epoch % 100 == 0:\n",
        "    print(f'Epoch: {epoch:03d}, Loss: {loss:.4f}')\n"
      ],
      "metadata": {
        "colab": {
          "base_uri": "https://localhost:8080/"
        },
        "id": "r79ElSw4cUGB",
        "outputId": "894b4de6-121c-49da-cc24-5a4497c25e17"
      },
      "execution_count": 8,
      "outputs": [
        {
          "output_type": "stream",
          "name": "stdout",
          "text": [
            "Epoch: 000, Loss: 1.9461\n",
            "Epoch: 100, Loss: 1.8616\n",
            "Epoch: 200, Loss: 1.7218\n",
            "Epoch: 300, Loss: 1.6939\n",
            "Epoch: 400, Loss: 1.6406\n",
            "Epoch: 500, Loss: 1.5496\n",
            "Epoch: 600, Loss: 1.4957\n",
            "Epoch: 700, Loss: 1.4611\n",
            "Epoch: 800, Loss: 1.4322\n",
            "Epoch: 900, Loss: 1.3927\n",
            "Epoch: 1000, Loss: 1.3463\n"
          ]
        }
      ]
    },
    {
      "cell_type": "code",
      "source": [
        "test_acc = test()\n",
        "print(f'Test Accuracy: {test_acc:.4f}')"
      ],
      "metadata": {
        "colab": {
          "base_uri": "https://localhost:8080/"
        },
        "id": "cT_28JEUjBIb",
        "outputId": "7626096b-055a-44d4-d4c3-8e57fc1e2ec2"
      },
      "execution_count": 9,
      "outputs": [
        {
          "output_type": "stream",
          "name": "stdout",
          "text": [
            "Test Accuracy: 0.6940\n"
          ]
        }
      ]
    },
    {
      "cell_type": "markdown",
      "source": [
        "#MultiLayer GCN"
      ],
      "metadata": {
        "id": "a1JKytKvLHq3"
      }
    },
    {
      "cell_type": "code",
      "source": [
        "import torch\n",
        "from torch.nn import Linear, ModuleList\n",
        "import torch.nn.functional as F\n",
        "from torch_geometric.nn import GCNConv\n",
        "\n",
        "class GCN_improved(torch.nn.Module):\n",
        "  def __init__(self, in_channels, hidden_channels, out_channels, num_layers):\n",
        "    super(GCN_improved, self).__init__()\n",
        "\n",
        "    self.num_layers = num_layers\n",
        "    self.conv_layers = ModuleList()\n",
        "    self.conv_layers.append(GCNConv(in_channels, hidden_channels))\n",
        "    for _ in range(num_layers - 2):\n",
        "      self.conv_layers.append(GCNConv(hidden_channels, hidden_channels))\n",
        "\n",
        "    self.out = Linear(hidden_channels, out_channels)\n",
        "\n",
        "  def forward(self, x, edge_index):\n",
        "    for conv in self.conv_layers:\n",
        "      x = conv(x, edge_index)\n",
        "      x = torch.relu(x)\n",
        "      x = F.dropout(x, p = 0.5, training = self.training)\n",
        "\n",
        "    x = F.softmax(self.out(x), dim = 1)\n",
        "    return x"
      ],
      "metadata": {
        "id": "q-s8tFWYjewQ"
      },
      "execution_count": 23,
      "outputs": []
    },
    {
      "cell_type": "code",
      "source": [
        "x = dataset.num_node_features\n",
        "y = dataset.num_classes\n",
        "\n",
        "model = GCN_improved(in_channels= x, hidden_channels= 16, out_channels=7 , num_layers=5)\n",
        "print(model)"
      ],
      "metadata": {
        "colab": {
          "base_uri": "https://localhost:8080/"
        },
        "id": "UImIwjpKWsLi",
        "outputId": "28516841-d039-4ca9-fc96-ae9c78e7a7d2"
      },
      "execution_count": 19,
      "outputs": [
        {
          "output_type": "stream",
          "name": "stdout",
          "text": [
            "GCN_improved(\n",
            "  (conv_layers): ModuleList(\n",
            "    (0): GCNConv(1433, 16)\n",
            "    (1-3): 3 x GCNConv(16, 16)\n",
            "  )\n",
            "  (out): Linear(in_features=16, out_features=7, bias=True)\n",
            ")\n"
          ]
        }
      ]
    },
    {
      "cell_type": "code",
      "source": [
        "from sklearn.metrics import accuracy_score\n",
        "\n",
        "model = GCN_improved(in_channels=dataset.num_features, hidden_channels=16, out_channels=dataset.num_classes, num_layers=5)\n",
        "\n",
        "# Define loss function and optimizer\n",
        "criterion = torch.nn.CrossEntropyLoss()\n",
        "optimizer = torch.optim.Adam(model.parameters(), lr=0.01)\n",
        "\n",
        "# Train the model\n",
        "model.train()\n",
        "for epoch in range(1001):\n",
        "    optimizer.zero_grad()\n",
        "    out = model(data.x, data.edge_index)\n",
        "    loss = criterion(out[data.train_mask], data.y[data.train_mask])\n",
        "    loss.backward()\n",
        "    optimizer.step()\n",
        "    if epoch % 100 == 0:\n",
        "      print(f'Epoch: {epoch:03d}, Loss: {loss:.4f}')\n",
        "\n"
      ],
      "metadata": {
        "colab": {
          "base_uri": "https://localhost:8080/"
        },
        "id": "zwNRH6LgW-FE",
        "outputId": "12ff4cde-ed78-4f24-fef9-9c06cbb850fb"
      },
      "execution_count": 30,
      "outputs": [
        {
          "output_type": "stream",
          "name": "stdout",
          "text": [
            "Epoch: 000, Loss: 1.9461\n",
            "Epoch: 100, Loss: 1.4489\n",
            "Epoch: 200, Loss: 1.3632\n",
            "Epoch: 300, Loss: 1.2939\n",
            "Epoch: 400, Loss: 1.2723\n",
            "Epoch: 500, Loss: 1.2759\n",
            "Epoch: 600, Loss: 1.3105\n",
            "Epoch: 700, Loss: 1.2423\n",
            "Epoch: 800, Loss: 1.2694\n",
            "Epoch: 900, Loss: 1.2428\n",
            "Epoch: 1000, Loss: 1.2224\n"
          ]
        }
      ]
    },
    {
      "cell_type": "code",
      "source": [
        "# Evaluate the model\n",
        "model.eval()\n",
        "with torch.no_grad():\n",
        "    pred = model(data.x, data.edge_index).argmax(dim=1)\n",
        "    test_correct = pred[data.test_mask] == data.y[data.test_mask]\n",
        "    test_acc = int(test_correct.sum()) / int(data.test_mask.sum())\n",
        "print(f'Test Accuracy: {test_acc:.4f}')"
      ],
      "metadata": {
        "colab": {
          "base_uri": "https://localhost:8080/"
        },
        "id": "4RQ8_AGBXrJN",
        "outputId": "20fb1f6e-5aa8-441a-e0a1-b3f44e9ad55f"
      },
      "execution_count": 29,
      "outputs": [
        {
          "output_type": "stream",
          "name": "stdout",
          "text": [
            "Test Accuracy: 0.7270\n"
          ]
        }
      ]
    },
    {
      "cell_type": "code",
      "source": [],
      "metadata": {
        "id": "-rT6O_6CcZmv"
      },
      "execution_count": null,
      "outputs": []
    }
  ]
}