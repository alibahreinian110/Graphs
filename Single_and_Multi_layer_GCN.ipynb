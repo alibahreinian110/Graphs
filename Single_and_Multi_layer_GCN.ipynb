{
  "cells": [
    {
      "cell_type": "code",
      "execution_count": 1,
      "metadata": {
        "id": "4yJl-JcwIeKa"
      },
      "outputs": [],
      "source": [
        "!pip install torch_geometric\n",
        "!pip install torch"
      ]
    },
    {
      "cell_type": "code",
      "execution_count": 2,
      "metadata": {
        "colab": {
          "base_uri": "https://localhost:8080/"
        },
        "id": "5QYY-4VrJquk",
        "outputId": "a9d09456-fd31-4093-f594-d023142b37d1"
      },
      "outputs": [
        {
          "name": "stderr",
          "output_type": "stream",
          "text": [
            "Downloading https://github.com/kimiyoung/planetoid/raw/master/data/ind.cora.x\n",
            "Downloading https://github.com/kimiyoung/planetoid/raw/master/data/ind.cora.tx\n",
            "Downloading https://github.com/kimiyoung/planetoid/raw/master/data/ind.cora.allx\n",
            "Downloading https://github.com/kimiyoung/planetoid/raw/master/data/ind.cora.y\n",
            "Downloading https://github.com/kimiyoung/planetoid/raw/master/data/ind.cora.ty\n",
            "Downloading https://github.com/kimiyoung/planetoid/raw/master/data/ind.cora.ally\n",
            "Downloading https://github.com/kimiyoung/planetoid/raw/master/data/ind.cora.graph\n",
            "Downloading https://github.com/kimiyoung/planetoid/raw/master/data/ind.cora.test.index\n",
            "Processing...\n",
            "Done!\n"
          ]
        }
      ],
      "source": [
        "from torch_geometric.datasets import Planetoid\n",
        "from torch_geometric.transforms import NormalizeFeatures\n",
        "\n",
        "dataset = Planetoid('data/Planetoid', name = 'Cora', transform = NormalizeFeatures())"
      ]
    },
    {
      "cell_type": "code",
      "execution_count": 3,
      "metadata": {
        "colab": {
          "base_uri": "https://localhost:8080/"
        },
        "id": "B6Wu35AmLNb1",
        "outputId": "f3b35900-9017-4d02-9e63-245077ce1cb7"
      },
      "outputs": [
        {
          "name": "stdout",
          "output_type": "stream",
          "text": [
            "Number of graphs: 1\n",
            "Number of features: 1433\n",
            "Number of classes: 7\n",
            "==================================================\n",
            "Data(x=[2708, 1433], edge_index=[2, 10556], y=[2708], train_mask=[2708], val_mask=[2708], test_mask=[2708])\n",
            "Number of nodes: 2708\n",
            "Number of edges: 10556\n",
            "Number of training nodes: 140\n",
            "Training node label rate: 0.05\n",
            "Is undirected: True\n"
          ]
        }
      ],
      "source": [
        "# Get some basic info about the dataset\n",
        "print(f'Number of graphs: {len(dataset)}')\n",
        "print(f'Number of features: {dataset.num_features}')\n",
        "print(f'Number of classes: {dataset.num_classes}')\n",
        "print(50*'=')\n",
        "\n",
        "# There is only one graph in the dataset, use it as new data object\n",
        "data = dataset[0]\n",
        "\n",
        "# Gather some statistics about the graph.\n",
        "print(data)\n",
        "print(f'Number of nodes: {data.num_nodes}')\n",
        "print(f'Number of edges: {data.num_edges}')\n",
        "print(f'Number of training nodes: {data.train_mask.sum()}')\n",
        "print(f'Training node label rate: {int(data.train_mask.sum()) / data.num_nodes:.2f}')\n",
        "print(f'Is undirected: {data.is_undirected()}')"
      ]
    },
    {
      "cell_type": "markdown",
      "metadata": {
        "id": "-xVyAC2ic1Ys"
      },
      "source": [
        "#SingleLayer GCN"
      ]
    },
    {
      "cell_type": "markdown",
      "metadata": {
        "id": "gCO44PrCxNu3"
      },
      "source": [
        "Traditional GCN\n",
        "\n",
        "Z = f(X,A) = softmax(Ahat  ReLu(Ahat X W0) W1)"
      ]
    },
    {
      "cell_type": "code",
      "execution_count": 9,
      "metadata": {
        "id": "XmUPePnHxE3O"
      },
      "outputs": [],
      "source": [
        "import torch\n",
        "from torch.nn import Linear\n",
        "import torch.nn.functional as F\n",
        "from torch_geometric.nn import GCNConv\n",
        "\n",
        "class GCN(torch.nn.Module):\n",
        "  def __init__(self, in_channels, hidden_channels, out_channels):\n",
        "    super(GCN, self).__init__()\n",
        "    torch.manual_seed(42)\n",
        "\n",
        "    self.conv1 = GCNConv(in_channels, hidden_channels)\n",
        "    self.conv2 = GCNConv(hidden_channels, hidden_channels)\n",
        "\n",
        "  def forward(self, x, edge_index):\n",
        "    x = self.conv1(x, edge_index)\n",
        "    x = torch.relu(x)\n",
        "    x = self.conv2(x, edge_index)\n",
        "    x = F.softmax(x, dim = 1)\n",
        "    return x"
      ]
    },
    {
      "cell_type": "markdown",
      "metadata": {
        "id": "ntwk3IJh1C6v"
      },
      "source": [
        "GCN with dropout function"
      ]
    },
    {
      "cell_type": "code",
      "execution_count": 13,
      "metadata": {
        "id": "zCSxhQIILWaj"
      },
      "outputs": [],
      "source": [
        "import torch\n",
        "from torch.nn import Linear\n",
        "import torch.nn.functional as F\n",
        "from torch_geometric.nn import GCNConv\n",
        "\n",
        "class GCN(torch.nn.Module):\n",
        "  def __init__(self, in_channels, hidden_channels, out_channels):\n",
        "    super(GCN, self).__init__()\n",
        "    torch.manual_seed(42)\n",
        "\n",
        "    self.conv1 = GCNConv(in_channels, hidden_channels)\n",
        "    self.conv2 = GCNConv(hidden_channels, hidden_channels)\n",
        "    self.out = Linear(hidden_channels, out_channels) #Probability of the output\n",
        "\n",
        "  def forward(self, x, edge_index):\n",
        "    x = self.conv1(x, edge_index)\n",
        "    x = torch.relu(x)\n",
        "    x = F.dropout(x, p = 0.5, training=self.training)\n",
        "\n",
        "    x = self.conv2(x, edge_index)\n",
        "    x = torch.relu(x)\n",
        "    x = F.dropout(x, p = 0.5, training = self.training)\n",
        "\n",
        "    x = F.softmax(self.out(x), dim = 1)\n",
        "    return x"
      ]
    },
    {
      "cell_type": "code",
      "execution_count": 14,
      "metadata": {
        "colab": {
          "base_uri": "https://localhost:8080/"
        },
        "id": "rlu0od6Ub93F",
        "outputId": "821dec79-08cb-4534-cc89-e154f649521e"
      },
      "outputs": [
        {
          "name": "stdout",
          "output_type": "stream",
          "text": [
            "GCN(\n",
            "  (conv1): GCNConv(1433, 16)\n",
            "  (conv2): GCNConv(16, 16)\n",
            "  (out): Linear(in_features=16, out_features=7, bias=True)\n",
            ")\n"
          ]
        }
      ],
      "source": [
        "x = dataset.num_node_features\n",
        "y = dataset.num_classes\n",
        "\n",
        "model = GCN(x, 16, y)\n",
        "print(model)"
      ]
    },
    {
      "cell_type": "code",
      "execution_count": 15,
      "metadata": {
        "colab": {
          "base_uri": "https://localhost:8080/"
        },
        "id": "r79ElSw4cUGB",
        "outputId": "dc2d3ade-b676-4ef3-ac34-af7f789f375a"
      },
      "outputs": [
        {
          "name": "stdout",
          "output_type": "stream",
          "text": [
            "Epoch: 000, Loss: 1.9461\n",
            "Epoch: 100, Loss: 1.8616\n",
            "Epoch: 200, Loss: 1.7218\n",
            "Epoch: 300, Loss: 1.6939\n",
            "Epoch: 400, Loss: 1.6406\n",
            "Epoch: 500, Loss: 1.5496\n",
            "Epoch: 600, Loss: 1.4957\n",
            "Epoch: 700, Loss: 1.4611\n",
            "Epoch: 800, Loss: 1.4322\n",
            "Epoch: 900, Loss: 1.3927\n",
            "Epoch: 1000, Loss: 1.3463\n"
          ]
        }
      ],
      "source": [
        "device = ('cuda' if torch.cuda.is_available() else 'cpu')\n",
        "model.to(device)\n",
        "data.to(device)\n",
        "\n",
        "lr = 0.01\n",
        "decay = 5e-4\n",
        "optimizer = torch.optim.Adam(model.parameters(), lr = lr, weight_decay = decay)\n",
        "\n",
        "criterion = torch.nn.CrossEntropyLoss()\n",
        "\n",
        "def train():\n",
        "  model.train()\n",
        "  optimizer.zero_grad()\n",
        "  out = model(data.x, data.edge_index)\n",
        "  loss = criterion(out[data.train_mask], data.y[data.train_mask])\n",
        "  loss.backward()\n",
        "  optimizer.step()\n",
        "  return loss\n",
        "\n",
        "def test():\n",
        "  model.eval()\n",
        "  out = model(data.x, data.edge_index)\n",
        "  pred = out.argmax(dim = 1)\n",
        "  test_correct = pred[data.test_mask] == data.y[data.test_mask]\n",
        "  test_acc = int(test_correct.sum()) / int(data.test_mask.sum())\n",
        "  return test_acc\n",
        "\n",
        "losses = []\n",
        "for epoch in range(0, 1001):\n",
        "  loss = train()\n",
        "  losses.append(loss)\n",
        "  if epoch % 100 == 0:\n",
        "    print(f'Epoch: {epoch:03d}, Loss: {loss:.4f}')\n"
      ]
    },
    {
      "cell_type": "code",
      "execution_count": 16,
      "metadata": {
        "colab": {
          "base_uri": "https://localhost:8080/"
        },
        "id": "cT_28JEUjBIb",
        "outputId": "8d4c080c-b260-4fe7-abbf-86c7c9fbe219"
      },
      "outputs": [
        {
          "name": "stdout",
          "output_type": "stream",
          "text": [
            "Test Accuracy: 0.6940\n"
          ]
        }
      ],
      "source": [
        "test_acc = test()\n",
        "print(f'Test Accuracy: {test_acc:.4f}')"
      ]
    },
    {
      "cell_type": "markdown",
      "metadata": {
        "id": "a1JKytKvLHq3"
      },
      "source": [
        "#MultiLayer GCN"
      ]
    },
    {
      "cell_type": "code",
      "execution_count": 17,
      "metadata": {
        "id": "q-s8tFWYjewQ"
      },
      "outputs": [],
      "source": [
        "import torch\n",
        "from torch.nn import Linear, ModuleList\n",
        "import torch.nn.functional as F\n",
        "from torch_geometric.nn import GCNConv\n",
        "\n",
        "class GCN_improved(torch.nn.Module):\n",
        "  def __init__(self, in_channels, hidden_channels, out_channels, num_layers):\n",
        "    super(GCN_improved, self).__init__()\n",
        "\n",
        "    self.num_layers = num_layers\n",
        "    self.conv_layers = ModuleList()\n",
        "    self.conv_layers.append(GCNConv(in_channels, hidden_channels))\n",
        "    for _ in range(num_layers - 2):\n",
        "      self.conv_layers.append(GCNConv(hidden_channels, hidden_channels))\n",
        "\n",
        "    self.out = Linear(hidden_channels, out_channels)\n",
        "\n",
        "  def forward(self, x, edge_index):\n",
        "    for conv in self.conv_layers:\n",
        "      x = conv(x, edge_index)\n",
        "      x = torch.relu(x)\n",
        "      x = F.dropout(x, p = 0.5, training = self.training)\n",
        "\n",
        "    x = F.softmax(self.out(x), dim = 1)\n",
        "    return x"
      ]
    },
    {
      "cell_type": "code",
      "execution_count": 18,
      "metadata": {
        "colab": {
          "base_uri": "https://localhost:8080/"
        },
        "id": "UImIwjpKWsLi",
        "outputId": "a766c1fc-9a2d-4283-8db2-bd0cc1e351a0"
      },
      "outputs": [
        {
          "name": "stdout",
          "output_type": "stream",
          "text": [
            "GCN_improved(\n",
            "  (conv_layers): ModuleList(\n",
            "    (0): GCNConv(1433, 16)\n",
            "    (1-3): 3 x GCNConv(16, 16)\n",
            "  )\n",
            "  (out): Linear(in_features=16, out_features=7, bias=True)\n",
            ")\n"
          ]
        }
      ],
      "source": [
        "x = dataset.num_node_features\n",
        "y = dataset.num_classes\n",
        "\n",
        "model = GCN_improved(in_channels= x, hidden_channels= 16, out_channels=7 , num_layers=5)\n",
        "print(model)"
      ]
    },
    {
      "cell_type": "code",
      "execution_count": 21,
      "metadata": {
        "colab": {
          "base_uri": "https://localhost:8080/"
        },
        "id": "zwNRH6LgW-FE",
        "outputId": "4eeee290-14f2-4b90-e23b-4d6250b1bc61"
      },
      "outputs": [
        {
          "name": "stdout",
          "output_type": "stream",
          "text": [
            "Epoch: 000, Loss: 1.9461\n",
            "Epoch: 100, Loss: 1.6544\n",
            "Epoch: 200, Loss: 1.5239\n",
            "Epoch: 300, Loss: 1.3374\n",
            "Epoch: 400, Loss: 1.3013\n",
            "Epoch: 500, Loss: 1.2841\n",
            "Epoch: 600, Loss: 1.2871\n",
            "Epoch: 700, Loss: 1.2764\n",
            "Epoch: 800, Loss: 1.3033\n",
            "Epoch: 900, Loss: 1.3078\n",
            "Epoch: 1000, Loss: 1.2698\n"
          ]
        }
      ],
      "source": [
        "model = GCN_improved(in_channels=dataset.num_features, hidden_channels=16, out_channels=dataset.num_classes, num_layers=5)\n",
        "\n",
        "# Define loss function and optimizer\n",
        "criterion = torch.nn.CrossEntropyLoss()\n",
        "optimizer = torch.optim.Adam(model.parameters(), lr=0.01)\n",
        "\n",
        "# Train the model\n",
        "model.train()\n",
        "for epoch in range(1001):\n",
        "    optimizer.zero_grad()\n",
        "    out = model(data.x, data.edge_index)\n",
        "    loss = criterion(out[data.train_mask], data.y[data.train_mask])\n",
        "    loss.backward()\n",
        "    optimizer.step()\n",
        "    if epoch % 100 == 0:\n",
        "      print(f'Epoch: {epoch:03d}, Loss: {loss:.4f}')\n",
        "\n"
      ]
    },
    {
      "cell_type": "code",
      "execution_count": 22,
      "metadata": {
        "colab": {
          "base_uri": "https://localhost:8080/"
        },
        "id": "4RQ8_AGBXrJN",
        "outputId": "69005466-e63c-4be2-d03b-a1dba39ddc12"
      },
      "outputs": [
        {
          "name": "stdout",
          "output_type": "stream",
          "text": [
            "Test Accuracy: 0.6420\n"
          ]
        }
      ],
      "source": [
        "# Evaluate the model\n",
        "model.eval()\n",
        "with torch.no_grad():\n",
        "    pred = model(data.x, data.edge_index).argmax(dim=1)\n",
        "    test_correct = pred[data.test_mask] == data.y[data.test_mask]\n",
        "    test_acc = int(test_correct.sum()) / int(data.test_mask.sum())\n",
        "print(f'Test Accuracy: {test_acc:.4f}')"
      ]
    }
  ],
  "metadata": {
    "colab": {
      "collapsed_sections": [
        "-xVyAC2ic1Ys"
      ],
      "provenance": []
    },
    "kernelspec": {
      "display_name": "Python 3",
      "name": "python3"
    },
    "language_info": {
      "name": "python"
    }
  },
  "nbformat": 4,
  "nbformat_minor": 0
}
